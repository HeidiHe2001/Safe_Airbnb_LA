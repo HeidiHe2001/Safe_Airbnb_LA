{
 "cells": [
  {
   "cell_type": "code",
   "execution_count": 2,
   "metadata": {},
   "outputs": [
    {
     "name": "stdout",
     "output_type": "stream",
     "text": [
      "Requirement already satisfied: sqlalchemy==1.4.46 in /Library/Frameworks/Python.framework/Versions/3.8/lib/python3.8/site-packages (1.4.46)\n",
      "Requirement already satisfied: greenlet!=0.4.17 in /Library/Frameworks/Python.framework/Versions/3.8/lib/python3.8/site-packages (from sqlalchemy==1.4.46) (3.0.3)\n",
      "\n",
      "\u001b[1m[\u001b[0m\u001b[34;49mnotice\u001b[0m\u001b[1;39;49m]\u001b[0m\u001b[39;49m A new release of pip is available: \u001b[0m\u001b[31;49m23.1.1\u001b[0m\u001b[39;49m -> \u001b[0m\u001b[32;49m24.0\u001b[0m\n",
      "\u001b[1m[\u001b[0m\u001b[34;49mnotice\u001b[0m\u001b[1;39;49m]\u001b[0m\u001b[39;49m To update, run: \u001b[0m\u001b[32;49mpip install --upgrade pip\u001b[0m\n",
      "Requirement already satisfied: pandasql in /Library/Frameworks/Python.framework/Versions/3.8/lib/python3.8/site-packages (0.7.3)\n",
      "Requirement already satisfied: numpy in /Library/Frameworks/Python.framework/Versions/3.8/lib/python3.8/site-packages (from pandasql) (1.23.1)\n",
      "Requirement already satisfied: pandas in /Library/Frameworks/Python.framework/Versions/3.8/lib/python3.8/site-packages (from pandasql) (1.1.4)\n",
      "Requirement already satisfied: sqlalchemy in /Library/Frameworks/Python.framework/Versions/3.8/lib/python3.8/site-packages (from pandasql) (1.4.46)\n",
      "Requirement already satisfied: python-dateutil>=2.7.3 in /Library/Frameworks/Python.framework/Versions/3.8/lib/python3.8/site-packages (from pandas->pandasql) (2.8.1)\n",
      "Requirement already satisfied: pytz>=2017.2 in /Library/Frameworks/Python.framework/Versions/3.8/lib/python3.8/site-packages (from pandas->pandasql) (2020.4)\n",
      "Requirement already satisfied: greenlet!=0.4.17 in /Library/Frameworks/Python.framework/Versions/3.8/lib/python3.8/site-packages (from sqlalchemy->pandasql) (3.0.3)\n",
      "Requirement already satisfied: six>=1.5 in /Library/Frameworks/Python.framework/Versions/3.8/lib/python3.8/site-packages (from python-dateutil>=2.7.3->pandas->pandasql) (1.15.0)\n",
      "\n",
      "\u001b[1m[\u001b[0m\u001b[34;49mnotice\u001b[0m\u001b[1;39;49m]\u001b[0m\u001b[39;49m A new release of pip is available: \u001b[0m\u001b[31;49m23.1.1\u001b[0m\u001b[39;49m -> \u001b[0m\u001b[32;49m24.0\u001b[0m\n",
      "\u001b[1m[\u001b[0m\u001b[34;49mnotice\u001b[0m\u001b[1;39;49m]\u001b[0m\u001b[39;49m To update, run: \u001b[0m\u001b[32;49mpip install --upgrade pip\u001b[0m\n",
      "Requirement already satisfied: geopy in /Library/Frameworks/Python.framework/Versions/3.8/lib/python3.8/site-packages (2.2.0)\n",
      "Requirement already satisfied: geographiclib<2,>=1.49 in /Library/Frameworks/Python.framework/Versions/3.8/lib/python3.8/site-packages (from geopy) (1.52)\n",
      "\n",
      "\u001b[1m[\u001b[0m\u001b[34;49mnotice\u001b[0m\u001b[1;39;49m]\u001b[0m\u001b[39;49m A new release of pip is available: \u001b[0m\u001b[31;49m23.1.1\u001b[0m\u001b[39;49m -> \u001b[0m\u001b[32;49m24.0\u001b[0m\n",
      "\u001b[1m[\u001b[0m\u001b[34;49mnotice\u001b[0m\u001b[1;39;49m]\u001b[0m\u001b[39;49m To update, run: \u001b[0m\u001b[32;49mpip install --upgrade pip\u001b[0m\n",
      "Requirement already satisfied: kaleido in /Library/Frameworks/Python.framework/Versions/3.8/lib/python3.8/site-packages (0.2.1)\n",
      "\n",
      "\u001b[1m[\u001b[0m\u001b[34;49mnotice\u001b[0m\u001b[1;39;49m]\u001b[0m\u001b[39;49m A new release of pip is available: \u001b[0m\u001b[31;49m23.1.1\u001b[0m\u001b[39;49m -> \u001b[0m\u001b[32;49m24.0\u001b[0m\n",
      "\u001b[1m[\u001b[0m\u001b[34;49mnotice\u001b[0m\u001b[1;39;49m]\u001b[0m\u001b[39;49m To update, run: \u001b[0m\u001b[32;49mpip install --upgrade pip\u001b[0m\n"
     ]
    }
   ],
   "source": [
    "!pip install sqlalchemy==1.4.46\n",
    "!pip install pandasql\n",
    "!pip install geopy\n",
    "!pip install -U kaleido\n",
    "import pandas as pd\n",
    "import pandasql as ps\n",
    "import matplotlib.pyplot as plt"
   ]
  },
  {
   "cell_type": "code",
   "execution_count": 141,
   "metadata": {},
   "outputs": [],
   "source": [
    "airbnb = pd.read_csv(\"clean/Airbnb.csv\")\n",
    "areas = pd.read_csv(\"clean/R2_area.csv\")"
   ]
  },
  {
   "cell_type": "code",
   "execution_count": 142,
   "metadata": {},
   "outputs": [
    {
     "data": {
      "text/plain": [
       "Index(['id', 'host_id', 'host_name', 'neighborhood', 'room_type', 'price',\n",
       "       'minimum_nights', 'number_of_reviews', 'availability_365',\n",
       "       'airbnb_name', 'star', 'bedrooms', 'beds', 'baths'],\n",
       "      dtype='object')"
      ]
     },
     "execution_count": 142,
     "metadata": {},
     "output_type": "execute_result"
    }
   ],
   "source": [
    "airbnb.columns"
   ]
  },
  {
   "cell_type": "code",
   "execution_count": 143,
   "metadata": {},
   "outputs": [
    {
     "data": {
      "text/plain": [
       "Index(['AREA', 'AREA NAME', 'SUBAREA NAME'], dtype='object')"
      ]
     },
     "execution_count": 143,
     "metadata": {},
     "output_type": "execute_result"
    }
   ],
   "source": [
    "areas.columns"
   ]
  },
  {
   "cell_type": "code",
   "execution_count": 144,
   "metadata": {},
   "outputs": [
    {
     "data": {
      "text/html": [
       "<div>\n",
       "<style scoped>\n",
       "    .dataframe tbody tr th:only-of-type {\n",
       "        vertical-align: middle;\n",
       "    }\n",
       "\n",
       "    .dataframe tbody tr th {\n",
       "        vertical-align: top;\n",
       "    }\n",
       "\n",
       "    .dataframe thead th {\n",
       "        text-align: right;\n",
       "    }\n",
       "</style>\n",
       "<table border=\"1\" class=\"dataframe\">\n",
       "  <thead>\n",
       "    <tr style=\"text-align: right;\">\n",
       "      <th></th>\n",
       "      <th>AREA</th>\n",
       "      <th>AREA NAME</th>\n",
       "    </tr>\n",
       "  </thead>\n",
       "  <tbody>\n",
       "    <tr>\n",
       "      <th>0</th>\n",
       "      <td>1</td>\n",
       "      <td>Central</td>\n",
       "    </tr>\n",
       "    <tr>\n",
       "      <th>14</th>\n",
       "      <td>2</td>\n",
       "      <td>Rampart</td>\n",
       "    </tr>\n",
       "    <tr>\n",
       "      <th>23</th>\n",
       "      <td>3</td>\n",
       "      <td>Southwest</td>\n",
       "    </tr>\n",
       "    <tr>\n",
       "      <th>36</th>\n",
       "      <td>4</td>\n",
       "      <td>Hollenbeck</td>\n",
       "    </tr>\n",
       "    <tr>\n",
       "      <th>49</th>\n",
       "      <td>5</td>\n",
       "      <td>Harbor</td>\n",
       "    </tr>\n",
       "    <tr>\n",
       "      <th>54</th>\n",
       "      <td>6</td>\n",
       "      <td>Hollywood</td>\n",
       "    </tr>\n",
       "    <tr>\n",
       "      <th>70</th>\n",
       "      <td>7</td>\n",
       "      <td>Wilshire</td>\n",
       "    </tr>\n",
       "    <tr>\n",
       "      <th>90</th>\n",
       "      <td>8</td>\n",
       "      <td>West LA</td>\n",
       "    </tr>\n",
       "    <tr>\n",
       "      <th>110</th>\n",
       "      <td>9</td>\n",
       "      <td>Van Nuys</td>\n",
       "    </tr>\n",
       "    <tr>\n",
       "      <th>116</th>\n",
       "      <td>10</td>\n",
       "      <td>West Valley</td>\n",
       "    </tr>\n",
       "    <tr>\n",
       "      <th>123</th>\n",
       "      <td>11</td>\n",
       "      <td>Northeast</td>\n",
       "    </tr>\n",
       "    <tr>\n",
       "      <th>138</th>\n",
       "      <td>12</td>\n",
       "      <td>77th Street</td>\n",
       "    </tr>\n",
       "    <tr>\n",
       "      <th>148</th>\n",
       "      <td>13</td>\n",
       "      <td>Newton</td>\n",
       "    </tr>\n",
       "    <tr>\n",
       "      <th>151</th>\n",
       "      <td>14</td>\n",
       "      <td>Pacific</td>\n",
       "    </tr>\n",
       "    <tr>\n",
       "      <th>160</th>\n",
       "      <td>15</td>\n",
       "      <td>N Hollywood</td>\n",
       "    </tr>\n",
       "    <tr>\n",
       "      <th>170</th>\n",
       "      <td>16</td>\n",
       "      <td>Foothill</td>\n",
       "    </tr>\n",
       "    <tr>\n",
       "      <th>177</th>\n",
       "      <td>17</td>\n",
       "      <td>Devonshire</td>\n",
       "    </tr>\n",
       "    <tr>\n",
       "      <th>181</th>\n",
       "      <td>18</td>\n",
       "      <td>Southeast</td>\n",
       "    </tr>\n",
       "    <tr>\n",
       "      <th>191</th>\n",
       "      <td>19</td>\n",
       "      <td>Mission</td>\n",
       "    </tr>\n",
       "    <tr>\n",
       "      <th>198</th>\n",
       "      <td>20</td>\n",
       "      <td>Olympic</td>\n",
       "    </tr>\n",
       "    <tr>\n",
       "      <th>200</th>\n",
       "      <td>21</td>\n",
       "      <td>Topanga</td>\n",
       "    </tr>\n",
       "  </tbody>\n",
       "</table>\n",
       "</div>"
      ],
      "text/plain": [
       "     AREA    AREA NAME\n",
       "0       1      Central\n",
       "14      2      Rampart\n",
       "23      3    Southwest\n",
       "36      4   Hollenbeck\n",
       "49      5       Harbor\n",
       "54      6    Hollywood\n",
       "70      7     Wilshire\n",
       "90      8      West LA\n",
       "110     9     Van Nuys\n",
       "116    10  West Valley\n",
       "123    11    Northeast\n",
       "138    12  77th Street\n",
       "148    13       Newton\n",
       "151    14      Pacific\n",
       "160    15  N Hollywood\n",
       "170    16     Foothill\n",
       "177    17   Devonshire\n",
       "181    18    Southeast\n",
       "191    19      Mission\n",
       "198    20      Olympic\n",
       "200    21      Topanga"
      ]
     },
     "execution_count": 144,
     "metadata": {},
     "output_type": "execute_result"
    }
   ],
   "source": [
    "areas[['AREA','AREA NAME']].drop_duplicates()"
   ]
  },
  {
   "cell_type": "code",
   "execution_count": 145,
   "metadata": {},
   "outputs": [],
   "source": [
    "areas['SUBAREA NAME'] = areas['SUBAREA NAME'].str.strip()\n",
    "areas['SUBAREA NAME'] = areas['SUBAREA NAME'].replace('Downtown Los Angeles', 'Downtown')\n",
    "areas['SUBAREA NAME'] = areas['SUBAREA NAME'].replace('Carthay Circle', 'Carthay')\n",
    "areas['SUBAREA NAME'] = areas['SUBAREA NAME'].replace('South Carthay', 'Carthay')"
   ]
  },
  {
   "cell_type": "code",
   "execution_count": 146,
   "metadata": {},
   "outputs": [],
   "source": [
    "rows_to_add = [\n",
    "    {'AREA': 20, 'AREA NAME': 'Olympic', 'SUBAREA NAME': 'Harvard Heights'},\n",
    "    {'AREA': 7, 'AREA NAME': 'Wilshire', 'SUBAREA NAME': 'Beverly Grove'},\n",
    "    {'AREA': 6, 'AREA NAME': 'Hollywood', 'SUBAREA NAME': 'Hollywood Hills West'},\n",
    "    {'AREA': 8, 'AREA NAME': 'West LA', 'SUBAREA NAME': 'Pico-Robertson'},\n",
    "    {'AREA': 18, 'AREA NAME': 'Southeast', 'SUBAREA NAME': 'Broadway-Manchester'},\n",
    "    {'AREA': 20, 'AREA NAME': 'Olympic', 'SUBAREA NAME': 'Larchmont'},\n",
    "    {'AREA': 8, 'AREA NAME': 'West LA', 'SUBAREA NAME': 'Bel-Air'},\n",
    "    {'AREA': 3, 'AREA NAME': 'Southwest', 'SUBAREA NAME': 'Baldwin Hills/Crenshaw'},\n",
    "    {'AREA': 12, 'AREA NAME': '77th Street', 'SUBAREA NAME': 'Vermont Square'},\n",
    "    {'AREA': 13, 'AREA NAME': 'Newton', 'SUBAREA NAME': 'Historic South-Central'},\n",
    "    {'AREA': 18, 'AREA NAME': 'Southeast', 'SUBAREA NAME': 'Green Meadows'},\n",
    "    {'AREA': 13, 'AREA NAME': 'Newton', 'SUBAREA NAME': 'South Park'},\n",
    "    {'AREA': 12, 'AREA NAME': '77th Street', 'SUBAREA NAME': 'Vermont-Slauson'},\n",
    "    {'AREA': 10, 'AREA NAME': 'West Valley', 'SUBAREA NAME': 'Sepulveda Basin'},\n",
    "    {'AREA': 11, 'AREA NAME': 'Northeast', 'SUBAREA NAME': 'Griffith Park'},\n",
    "    {'AREA': 13, 'AREA NAME': 'Newton', 'SUBAREA NAME': 'Central-Alameda'},\n",
    "    {'AREA': 18, 'AREA NAME': 'Southeast', 'SUBAREA NAME': 'Vermont Vista'},\n",
    "    {'AREA': 12, 'AREA NAME': '77th Street', 'SUBAREA NAME': 'Florence'},\n",
    "    {'AREA': 12, 'AREA NAME': '77th Street', 'SUBAREA NAME': 'Harvard Park'},\n",
    "    {'AREA': 21, 'AREA NAME': 'Topanga', 'SUBAREA NAME': 'Chatsworth Reservoir'},\n",
    "    # Add as many rows as needed\n",
    "]\n",
    "\n",
    "for row in rows_to_add:\n",
    "    areas = areas.append(row, ignore_index=True)"
   ]
  },
  {
   "cell_type": "code",
   "execution_count": 154,
   "metadata": {},
   "outputs": [],
   "source": [
    "areas.to_csv('Areas.csv', index=False)"
   ]
  },
  {
   "cell_type": "code",
   "execution_count": 153,
   "metadata": {},
   "outputs": [
    {
     "data": {
      "text/plain": [
       "'/Users/gillianwong/Documents/2024Spring/CIS5500/project_skeleton/Criminal_Airbnb_Analysis-main'"
      ]
     },
     "execution_count": 153,
     "metadata": {},
     "output_type": "execute_result"
    }
   ],
   "source": [
    "pwd"
   ]
  },
  {
   "cell_type": "code",
   "execution_count": 148,
   "metadata": {},
   "outputs": [
    {
     "data": {
      "text/html": [
       "<div>\n",
       "<style scoped>\n",
       "    .dataframe tbody tr th:only-of-type {\n",
       "        vertical-align: middle;\n",
       "    }\n",
       "\n",
       "    .dataframe tbody tr th {\n",
       "        vertical-align: top;\n",
       "    }\n",
       "\n",
       "    .dataframe thead th {\n",
       "        text-align: right;\n",
       "    }\n",
       "</style>\n",
       "<table border=\"1\" class=\"dataframe\">\n",
       "  <thead>\n",
       "    <tr style=\"text-align: right;\">\n",
       "      <th></th>\n",
       "      <th>neighborhood</th>\n",
       "      <th>SUBAREA NAME</th>\n",
       "    </tr>\n",
       "  </thead>\n",
       "  <tbody>\n",
       "    <tr>\n",
       "      <th>0</th>\n",
       "      <td>Hollywood</td>\n",
       "      <td>Hollywood</td>\n",
       "    </tr>\n",
       "    <tr>\n",
       "      <th>1</th>\n",
       "      <td>Hollywood</td>\n",
       "      <td>Hollywood</td>\n",
       "    </tr>\n",
       "    <tr>\n",
       "      <th>2</th>\n",
       "      <td>Hollywood</td>\n",
       "      <td>Hollywood</td>\n",
       "    </tr>\n",
       "    <tr>\n",
       "      <th>3</th>\n",
       "      <td>Hollywood</td>\n",
       "      <td>Hollywood</td>\n",
       "    </tr>\n",
       "    <tr>\n",
       "      <th>4</th>\n",
       "      <td>Hollywood</td>\n",
       "      <td>Hollywood</td>\n",
       "    </tr>\n",
       "    <tr>\n",
       "      <th>...</th>\n",
       "      <td>...</td>\n",
       "      <td>...</td>\n",
       "    </tr>\n",
       "    <tr>\n",
       "      <th>24588</th>\n",
       "      <td>NaN</td>\n",
       "      <td>Jordan Downs</td>\n",
       "    </tr>\n",
       "    <tr>\n",
       "      <th>24589</th>\n",
       "      <td>NaN</td>\n",
       "      <td>Nickerson Gardens</td>\n",
       "    </tr>\n",
       "    <tr>\n",
       "      <th>24590</th>\n",
       "      <td>NaN</td>\n",
       "      <td>Parkside Manor</td>\n",
       "    </tr>\n",
       "    <tr>\n",
       "      <th>24591</th>\n",
       "      <td>NaN</td>\n",
       "      <td>Knollwood</td>\n",
       "    </tr>\n",
       "    <tr>\n",
       "      <th>24592</th>\n",
       "      <td>NaN</td>\n",
       "      <td>Blythe Street</td>\n",
       "    </tr>\n",
       "  </tbody>\n",
       "</table>\n",
       "<p>24593 rows × 2 columns</p>\n",
       "</div>"
      ],
      "text/plain": [
       "      neighborhood       SUBAREA NAME\n",
       "0        Hollywood          Hollywood\n",
       "1        Hollywood          Hollywood\n",
       "2        Hollywood          Hollywood\n",
       "3        Hollywood          Hollywood\n",
       "4        Hollywood          Hollywood\n",
       "...            ...                ...\n",
       "24588          NaN       Jordan Downs\n",
       "24589          NaN  Nickerson Gardens\n",
       "24590          NaN     Parkside Manor\n",
       "24591          NaN          Knollwood\n",
       "24592          NaN      Blythe Street\n",
       "\n",
       "[24593 rows x 2 columns]"
      ]
     },
     "execution_count": 148,
     "metadata": {},
     "output_type": "execute_result"
    }
   ],
   "source": [
    "full_join_df = pd.merge(airbnb, areas, left_on='neighborhood', right_on='SUBAREA NAME', how='outer')[['neighborhood', 'SUBAREA NAME']]\n",
    "\n",
    "full_join_df"
   ]
  },
  {
   "cell_type": "code",
   "execution_count": 149,
   "metadata": {},
   "outputs": [],
   "source": [
    "carthay_rows = full_join_df[full_join_df['neighborhood'].str.contains('carthay', case=False, na=False)]\n",
    "carthay_rows = full_join_df[full_join_df['SUBAREA NAME'].str.contains('carthay', case=False, na=False)]"
   ]
  },
  {
   "cell_type": "code",
   "execution_count": 150,
   "metadata": {},
   "outputs": [
    {
     "data": {
      "text/html": [
       "<div>\n",
       "<style scoped>\n",
       "    .dataframe tbody tr th:only-of-type {\n",
       "        vertical-align: middle;\n",
       "    }\n",
       "\n",
       "    .dataframe tbody tr th {\n",
       "        vertical-align: top;\n",
       "    }\n",
       "\n",
       "    .dataframe thead th {\n",
       "        text-align: right;\n",
       "    }\n",
       "</style>\n",
       "<table border=\"1\" class=\"dataframe\">\n",
       "  <thead>\n",
       "    <tr style=\"text-align: right;\">\n",
       "      <th></th>\n",
       "      <th>neighborhood</th>\n",
       "      <th>SUBAREA NAME</th>\n",
       "    </tr>\n",
       "  </thead>\n",
       "  <tbody>\n",
       "  </tbody>\n",
       "</table>\n",
       "</div>"
      ],
      "text/plain": [
       "Empty DataFrame\n",
       "Columns: [neighborhood, SUBAREA NAME]\n",
       "Index: []"
      ]
     },
     "execution_count": 150,
     "metadata": {},
     "output_type": "execute_result"
    }
   ],
   "source": [
    "full_join_df[full_join_df['SUBAREA NAME'].isnull()]"
   ]
  },
  {
   "cell_type": "code",
   "execution_count": 151,
   "metadata": {},
   "outputs": [
    {
     "data": {
      "text/plain": [
       "array(['Hollywood', 'Hollywood Hills', 'Del Rey', 'Woodland Hills',\n",
       "       'Mid-City', 'Atwater Village', 'Harvard Heights', 'Venice',\n",
       "       'Mid-Wilshire', 'Encino', 'Silver Lake', 'Valley Village',\n",
       "       'Beverly Grove', 'Westchester', 'Highland Park', 'Koreatown',\n",
       "       'Echo Park', 'Sawtelle', 'Mount Washington', 'North Hollywood',\n",
       "       'Jefferson Park', 'Downtown', 'Pacific Palisades',\n",
       "       'East Hollywood', 'Valley Glen', 'Shadow Hills', 'Mar Vista',\n",
       "       'Carthay', 'Fairfax', 'Glassell Park', 'Elysian Valley',\n",
       "       'San Pedro', 'Century City', 'Palms', 'West Los Angeles',\n",
       "       'Van Nuys', 'Studio City', 'Hollywood Hills West',\n",
       "       'Pico-Robertson', 'Broadway-Manchester', 'Beverly Crest',\n",
       "       'Hancock Park', 'Arlington Heights', 'Los Feliz', 'Leimert Park',\n",
       "       'Sherman Oaks', 'Brentwood', 'Canoga Park', 'Eagle Rock',\n",
       "       'Lincoln Heights', 'Rancho Park', 'Westwood', 'Winnetka',\n",
       "       'Larchmont', 'Panorama City', 'Westlake', 'Playa del Rey',\n",
       "       'Playa Vista', 'West Adams', 'Harbor City', 'West Hills',\n",
       "       'Montecito Heights', 'Sunland', 'Bel-Air', 'Reseda',\n",
       "       'Baldwin Hills/Crenshaw', 'Vermont Square', 'Boyle Heights',\n",
       "       'Northridge', 'Porter Ranch', 'University Park', 'Beverlywood',\n",
       "       'Cheviot Hills', 'El Sereno', 'Granada Hills', 'Adams-Normandie',\n",
       "       'Gramercy Park', 'Exposition Park', 'Tarzana', 'Lake Balboa',\n",
       "       'Sun Valley', 'Harbor Gateway', 'Hyde Park', 'Windsor Square',\n",
       "       'Chatsworth', 'Toluca Lake', 'Chinatown', 'Tujunga', 'North Hills',\n",
       "       'Historic South-Central', 'Arleta', 'Pico-Union', 'Sylmar',\n",
       "       'Green Meadows', 'Cypress Park', 'South Park', 'Vermont-Slauson',\n",
       "       'Watts', 'Elysian Park', 'Sepulveda Basin', 'Pacoima',\n",
       "       'Chesterfield Square', 'Wilmington', 'Vermont Knolls',\n",
       "       'Griffith Park', 'Mission Hills', 'Central-Alameda',\n",
       "       'Manchester Square', 'Lake View Terrace', 'Vermont Vista',\n",
       "       'Florence', 'Harvard Park', 'Chatsworth Reservoir', nan],\n",
       "      dtype=object)"
      ]
     },
     "execution_count": 151,
     "metadata": {},
     "output_type": "execute_result"
    }
   ],
   "source": [
    "full_join_df.neighborhood.unique()"
   ]
  },
  {
   "cell_type": "code",
   "execution_count": 139,
   "metadata": {},
   "outputs": [
    {
     "data": {
      "text/plain": [
       "array(['Hollywood', 'Hollywood Hills', 'Del Rey', 'Woodland Hills',\n",
       "       'Mid-City', 'Atwater Village', 'Harvard Heights', 'Venice',\n",
       "       'Mid-Wilshire', 'Encino', 'Silver Lake', 'Valley Village',\n",
       "       'Beverly Grove', 'Westchester', 'Highland Park', 'Koreatown',\n",
       "       'Echo Park', 'Sawtelle', 'Mount Washington', 'North Hollywood',\n",
       "       'Jefferson Park', 'Downtown', 'Pacific Palisades',\n",
       "       'East Hollywood', 'Valley Glen', 'Shadow Hills', 'Mar Vista',\n",
       "       'Carthay', 'Fairfax', 'Glassell Park', 'Elysian Valley',\n",
       "       'San Pedro', 'Century City', 'Palms', 'West Los Angeles',\n",
       "       'Van Nuys', 'Studio City', 'Hollywood Hills West',\n",
       "       'Pico-Robertson', 'Broadway-Manchester', 'Beverly Crest',\n",
       "       'Hancock Park', 'Arlington Heights', 'Los Feliz', 'Leimert Park',\n",
       "       'Sherman Oaks', 'Brentwood', 'Canoga Park', 'Eagle Rock',\n",
       "       'Lincoln Heights', 'Rancho Park', 'Westwood', 'Winnetka',\n",
       "       'Larchmont', 'Panorama City', 'Westlake', 'Playa del Rey',\n",
       "       'Playa Vista', 'West Adams', 'Harbor City', 'West Hills',\n",
       "       'Montecito Heights', 'Sunland', 'Bel-Air', 'Reseda',\n",
       "       'Baldwin Hills/Crenshaw', 'Vermont Square', 'Boyle Heights',\n",
       "       'Northridge', 'Porter Ranch', 'University Park', 'Beverlywood',\n",
       "       'Cheviot Hills', 'El Sereno', 'Granada Hills', 'Adams-Normandie',\n",
       "       'Gramercy Park', 'Exposition Park', 'Tarzana', 'Lake Balboa',\n",
       "       'Sun Valley', 'Harbor Gateway', 'Hyde Park', 'Windsor Square',\n",
       "       'Chatsworth', 'Toluca Lake', 'Chinatown', 'Tujunga', 'North Hills',\n",
       "       'Historic South-Central', 'Arleta', 'Pico-Union', 'Sylmar',\n",
       "       'Green Meadows', 'Cypress Park', 'South Park', 'Vermont-Slauson',\n",
       "       'Watts', 'Elysian Park', 'Sepulveda Basin', 'Pacoima',\n",
       "       'Chesterfield Square', 'Wilmington', 'Vermont Knolls',\n",
       "       'Griffith Park', 'Mission Hills', 'Central-Alameda',\n",
       "       'Manchester Square', 'Lake View Terrace', 'Vermont Vista',\n",
       "       'Florence', 'Harvard Park', 'Chatsworth Reservoir',\n",
       "       'Bunker Hill/Historic Core', 'Central City East', 'Civic Center',\n",
       "       'Fashion District', 'Jewelry District', 'Little Tokyo',\n",
       "       'Solano Canyon', 'South Park-Entertainment', 'Toy District',\n",
       "       'Old Bank District', 'Artists Lofts', 'Financial District',\n",
       "       'Angelino Heights', 'Historic Filipinotown', 'Lafayette Park',\n",
       "       'MacArthur Park', 'Temple-Beaudry', 'Virgil Village',\n",
       "       'Baldwin Hills', 'Baldwin Village', 'Baldwin Vista', 'Crenshaw',\n",
       "       'Union Square', 'Village Green', 'Western Heights',\n",
       "       'Aliso Village', 'Estrada Court', 'Hermon', 'Hillside Village',\n",
       "       'Monterey Hills', 'Pico Gardens', 'Ramona Gardens',\n",
       "       'Rose Hills Courts', 'University Hills', 'Terminal Island',\n",
       "       'Argyle', 'Cahuenga Pass', 'Hobart', 'Hollywood/La Brea',\n",
       "       'Little Armenia', 'Melrose District', 'Mount Olympus',\n",
       "       'Sierra Vista', 'Spaulding Square', 'Sunset Strip', 'Thai Town',\n",
       "       'Vine/Willoughby', 'Brookside Park', 'Country Club Park',\n",
       "       'Greater Wilshire', 'Larchmont Village', 'Little Ethiopia',\n",
       "       'Melrose', 'Miracle Mile', 'Park La Brea', 'Wellington Square',\n",
       "       'Wilshire Center', 'Wilshire Vista', 'Olympic Park', 'Bel Air',\n",
       "       'Benedict Canyon', 'Beverly Glen', 'Crestview', 'Glen Ridge',\n",
       "       'Roscomare Valley', 'Rustic Canyon', 'San Vicente',\n",
       "       'La Cienega Heights', 'Santa Monica Canyon', 'Sepulveda',\n",
       "       'Ventura Business District', 'West Van Nuys', 'Mandeville Canyon',\n",
       "       'Warner Center', 'Franklin Hills', 'Garvanza', 'Athens Park',\n",
       "       'South Park-51st and Menlo', 'Vermont Park', 'View Heights',\n",
       "       'Morningside Park', 'West Park Terrance', 'Pueblo Del Rio',\n",
       "       'Oakwood', 'Toluca Woods', 'Universal City', 'West Toluca',\n",
       "       'La Tuna Canyon', 'Avalon Gardens', 'Gardena Boulevard',\n",
       "       'Hacienda Village', 'Imperial Courts', 'Jordan Downs',\n",
       "       'Nickerson Gardens', 'Parkside Manor', 'Knollwood',\n",
       "       'Blythe Street'], dtype=object)"
      ]
     },
     "execution_count": 139,
     "metadata": {},
     "output_type": "execute_result"
    }
   ],
   "source": [
    "full_join_df['SUBAREA NAME'].unique()"
   ]
  },
  {
   "cell_type": "code",
   "execution_count": null,
   "metadata": {},
   "outputs": [],
   "source": []
  }
 ],
 "metadata": {
  "kernelspec": {
   "display_name": "Python 3",
   "language": "python",
   "name": "python3"
  },
  "language_info": {
   "codemirror_mode": {
    "name": "ipython",
    "version": 3
   },
   "file_extension": ".py",
   "mimetype": "text/x-python",
   "name": "python",
   "nbconvert_exporter": "python",
   "pygments_lexer": "ipython3",
   "version": "3.8.5"
  }
 },
 "nbformat": 4,
 "nbformat_minor": 4
}
